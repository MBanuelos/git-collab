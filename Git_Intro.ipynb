{
 "cells": [
  {
   "cell_type": "markdown",
   "metadata": {},
   "source": [
    "# Git and GitHub Tutorial  "
   ]
  },
  {
   "cell_type": "markdown",
   "metadata": {},
   "source": [
    "In this tutorial, I will cover some basics of getting started using Git and Github. We will also see how to make a repository and invite collaborators to a project. This tutorial is based on the GitHub Help Bootcamp."
   ]
  },
  {
   "cell_type": "markdown",
   "metadata": {},
   "source": [
    "## Why Git and Why Version Control?"
   ]
  },
  {
   "cell_type": "markdown",
   "metadata": {},
   "source": [
    "Git is a particular implementation of a version control system (VCS), invented by Linus Torvald, and GitHub is a company that hosts repositories (or projects) that can be updated using Git commands.\n",
    "\n",
    "You can think of version control as taking a 'snapshot' of your files at a specific time. This will be especially important when it comes to code and programming with others. For reports (and code), we want to avoid the following: \n",
    "\n",
    "    msri_finalreport.txt\n",
    "    msri_finalreport2.txt\n",
    "    msri_finalreport_revised.txt\n",
    "    msri_finalreport_final.txt\n",
    "    msri_finalreport_UseThisOne.txt\n",
    "    \n",
    "Question: Why should we use Git (and Github) instead of Dropbox or Google Drive?"
   ]
  },
  {
   "cell_type": "markdown",
   "metadata": {},
   "source": [
    "## Installing and Set-up"
   ]
  },
  {
   "cell_type": "markdown",
   "metadata": {},
   "source": [
    "First, we need to install Git. You can do so by navigating to https://git-scm.com/downloads. Then, you can set your Git username (for every or select) repositories by\n",
    "1. Opening the Terminal\n",
    "2. Setting a Git Username:\n",
    "   \n",
    "       git config --global user.name \"Mona Lisa\"\n",
    "  \n",
    "3. Confirm this worked by typing\n",
    "\n",
    "       git config --global user.name"
   ]
  },
  {
   "cell_type": "markdown",
   "metadata": {},
   "source": [
    "Next, we need to sign up for GitHub at https://github.com. By default, you can only make public repositories (or projects), but if you add your school email address, you may create free private repositories for two years."
   ]
  },
  {
   "cell_type": "markdown",
   "metadata": {},
   "source": [
    "## Basic Workflow"
   ]
  },
  {
   "cell_type": "markdown",
   "metadata": {},
   "source": [
    "Below, we have a visual representation of the basic workflow of how Git works. Remote repositories typically will live on GitHub and all other parts will live on your machine."
   ]
  },
  {
   "cell_type": "markdown",
   "metadata": {},
   "source": [
    "<img src=\"git_workflow.pdf\">"
   ]
  },
  {
   "cell_type": "markdown",
   "metadata": {},
   "source": [
    "### Creating a Repository."
   ]
  },
  {
   "cell_type": "markdown",
   "metadata": {},
   "source": [
    "Navigate to GitHub and on the top right of the page, click on the + icon and create a new repository. Check the add README.Md option and add a brief description."
   ]
  },
  {
   "cell_type": "markdown",
   "metadata": {},
   "source": [
    "### Cloning a Repository"
   ]
  },
  {
   "cell_type": "markdown",
   "metadata": {},
   "source": [
    "In general, if you want download someone's repository, you will need to clone a repository with the following command\n",
    "\n",
    "    git clone https://github.com/MBanuelos/Python-Tutorials.git\n",
    "    \n",
    "This will make a local copy of the repository on your machine. Now, try the following\n",
    "\n",
    "    git clone http://github.com/[your Github Username]/[your repository].git\n",
    "\n",
    "Since you made this repository, you will also have the ability to write (make changes) to this project."
   ]
  },
  {
   "cell_type": "markdown",
   "metadata": {},
   "source": [
    "### Adding files to the Staging Area"
   ]
  },
  {
   "cell_type": "markdown",
   "metadata": {},
   "source": [
    "Let's make a .txt file (say 'test.txt') and add it to the repository. We add it to the staging area by\n",
    "\n",
    "    git add [file]\n",
    "    \n",
    "and we can view the status as \n",
    "\n",
    "    git status"
   ]
  },
  {
   "cell_type": "markdown",
   "metadata": {},
   "source": [
    "### Checking differences\n",
    "You can see differences in files by typing\n",
    "\n",
    "    git diff"
   ]
  },
  {
   "cell_type": "markdown",
   "metadata": {},
   "source": [
    "### Committing Changes\n",
    "\n",
    "A commit tells Git that you made some changes and now you want to take a new 'snapshot' of what you have changed. This is similar to saving a file, but committing provides . "
   ]
  },
  {
   "cell_type": "markdown",
   "metadata": {},
   "source": [
    "We can also add all the files and commit changes simultaneously by\n",
    "\n",
    "    git add -A\n",
    "    git commit -m 'my meaningful message'"
   ]
  },
  {
   "cell_type": "markdown",
   "metadata": {},
   "source": [
    "### Pushing Changes\n",
    "Once you are satisfied with your changes and your commit message, you can push your local changes to the remote repository by\n",
    "\n",
    "    git push"
   ]
  },
  {
   "cell_type": "markdown",
   "metadata": {},
   "source": [
    "Note: You can also keep your repository up-to-date using the command\n",
    "   \n",
    "    git pull"
   ]
  },
  {
   "cell_type": "markdown",
   "metadata": {},
   "source": [
    "## Branching Out"
   ]
  },
  {
   "cell_type": "markdown",
   "metadata": {},
   "source": [
    "A branch is a parallel version of the main line of development in the repository, or the master branch. For code, branches can be used to\n",
    "1. Develop features\n",
    "2. Fix bugs\n",
    "3. Safely experiment with new ideas AKA 'Not ruining working code'\n",
    "\n",
    "You can create a new branch by\n",
    "\n",
    "    git checkout -b testbranch"
   ]
  },
  {
   "cell_type": "code",
   "execution_count": null,
   "metadata": {},
   "outputs": [],
   "source": []
  },
  {
   "cell_type": "markdown",
   "metadata": {},
   "source": [
    "## :) Collaboration (or when things work out)"
   ]
  },
  {
   "cell_type": "markdown",
   "metadata": {},
   "source": [
    "After you have made a repository, you can add collaborators to that repository by the following steps:\n",
    "\n",
    "1. Navigate to the repository on Github and click on the \"Settings\" tab.\n",
    "2. Click the \"Collaborators\" menu item on the left side of the page.\n",
    "3. Type the collaborator's GitHub username into the search box and select the Github user.\n",
    "4. Add the user\n",
    "\n",
    "Note: the user will have to accept this invitation to collaborate in order to push to your repository."
   ]
  },
  {
   "cell_type": "markdown",
   "metadata": {},
   "source": [
    "## :| Collaboration (or when office hours are in the morning)"
   ]
  },
  {
   "cell_type": "code",
   "execution_count": null,
   "metadata": {},
   "outputs": [],
   "source": [
    "<<<<<<< HEAD # denotes the beginning of the conflict \n",
    "\n",
    "======= # separates what was written in the previous (master) branch and another branch \n",
    "\n",
    ">>>>>>> branch-a # let's you know what branch/fork is causing the conflict"
   ]
  }
 ],
 "metadata": {
  "kernelspec": {
   "display_name": "Python 3",
   "language": "python",
   "name": "python3"
  },
  "language_info": {
   "codemirror_mode": {
    "name": "ipython",
    "version": 3
   },
   "file_extension": ".py",
   "mimetype": "text/x-python",
   "name": "python",
   "nbconvert_exporter": "python",
   "pygments_lexer": "ipython3",
   "version": "3.6.5"
  }
 },
 "nbformat": 4,
 "nbformat_minor": 2
}
